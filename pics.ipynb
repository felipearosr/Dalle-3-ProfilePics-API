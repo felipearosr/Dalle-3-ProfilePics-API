{
 "cells": [
  {
   "cell_type": "code",
   "execution_count": null,
   "metadata": {},
   "outputs": [],
   "source": [
    "from openai import OpenAI\n"
   ]
  },
  {
   "cell_type": "code",
   "execution_count": null,
   "metadata": {},
   "outputs": [],
   "source": [
    "client = OpenAI()\n",
    "\n",
    "response = client.images.create_variation()\n",
    "response = client.images.edit()\n",
    "response = client.images.generate()"
   ]
  },
  {
   "cell_type": "markdown",
   "metadata": {},
   "source": [
    "## Create Variation\n",
    "\n",
    "Only available for `dalle-2`"
   ]
  },
  {
   "cell_type": "code",
   "execution_count": null,
   "metadata": {},
   "outputs": [],
   "source": [
    "prompt = \"\""
   ]
  },
  {
   "cell_type": "code",
   "execution_count": null,
   "metadata": {},
   "outputs": [],
   "source": [
    "response = client.images.create_variation(\n",
    "  image=\"\",\n",
    "  model=\"dalle-2\",\n",
    "  n=1,\n",
    "  response_format=\"url\",\n",
    "  size=\"\",\n",
    "  user=\"\",\n",
    "  extra_headers={},\n",
    "  extra_query={},\n",
    "  extra_body={},\n",
    "  timeout=30,\n",
    ")"
   ]
  },
  {
   "cell_type": "markdown",
   "metadata": {},
   "source": [
    "## Edit"
   ]
  },
  {
   "cell_type": "code",
   "execution_count": null,
   "metadata": {},
   "outputs": [],
   "source": [
    "response = client.images.edit(\n",
    "  image=\"\",\n",
    "  prompt=\"\",\n",
    "  mask=\"\",\n",
    "  model=\"\",\n",
    "  n=1,\n",
    "  response_format=\"url\",\n",
    "  size=\"\",\n",
    "  user=\"\",\n",
    "  extra_headers={},\n",
    "  extra_query={},\n",
    "  extra_body={},\n",
    "  timeout=30,\n",
    ")"
   ]
  },
  {
   "cell_type": "markdown",
   "metadata": {},
   "source": [
    "## Generate"
   ]
  },
  {
   "cell_type": "code",
   "execution_count": null,
   "metadata": {},
   "outputs": [],
   "source": []
  }
 ],
 "metadata": {
  "kernelspec": {
   "display_name": "rag",
   "language": "python",
   "name": "python3"
  },
  "language_info": {
   "name": "python",
   "version": "3.11.0"
  }
 },
 "nbformat": 4,
 "nbformat_minor": 2
}
